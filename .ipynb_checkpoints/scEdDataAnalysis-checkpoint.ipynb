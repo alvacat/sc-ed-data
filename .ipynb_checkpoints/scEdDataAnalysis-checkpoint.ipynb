{
 "cells": [
  {
   "cell_type": "markdown",
   "metadata": {},
   "source": [
    "# SC Education Data Analysis\n",
    "\n",
    "In this project, I'm going to check out the education data for all of the school districts in South Carolina to see what patterns I can find.  I have a few questions in mind right now and they'll likely get refined/expanded upon as I further along in the project.  \n",
    "\n",
    "The overarching question is the same thing people always want to know about education: What factors are most associated with successful outcomes for students and can we control/influence those things to improve outcomes for more students?"
   ]
  },
  {
   "cell_type": "markdown",
   "metadata": {},
   "source": [
    "# Importing Libraries and Data"
   ]
  },
  {
   "cell_type": "code",
   "execution_count": 1,
   "metadata": {},
   "outputs": [
    {
     "name": "stderr",
     "output_type": "stream",
     "text": [
      "Matplotlib is building the font cache; this may take a moment.\n"
     ]
    }
   ],
   "source": [
    "import pandas as pd\n",
    "import matplotlib.pyplot as plt\n",
    "import seaborn as sns\n",
    "import numpy as np"
   ]
  },
  {
   "cell_type": "code",
   "execution_count": 6,
   "metadata": {},
   "outputs": [],
   "source": [
    "edu_df=pd.read_excel('South Carolina K12 Data wCharters.xlsx',header=1)"
   ]
  },
  {
   "cell_type": "code",
   "execution_count": 8,
   "metadata": {},
   "outputs": [
    {
     "data": {
      "text/html": [
       "<div>\n",
       "<style scoped>\n",
       "    .dataframe tbody tr th:only-of-type {\n",
       "        vertical-align: middle;\n",
       "    }\n",
       "\n",
       "    .dataframe tbody tr th {\n",
       "        vertical-align: top;\n",
       "    }\n",
       "\n",
       "    .dataframe thead th {\n",
       "        text-align: right;\n",
       "    }\n",
       "</style>\n",
       "<table border=\"1\" class=\"dataframe\">\n",
       "  <thead>\n",
       "    <tr style=\"text-align: right;\">\n",
       "      <th></th>\n",
       "      <th>District</th>\n",
       "      <th>% Poverty</th>\n",
       "      <th>Students1 \\n(135 Day ADM)</th>\n",
       "      <th>Per Pupil Revenue2</th>\n",
       "      <th>Per Pupil Expenditure3</th>\n",
       "      <th>% Spent on Instruction</th>\n",
       "      <th>3rd Grade ELA (% Meets or Exceeds)</th>\n",
       "      <th>8th Grade Math (% Meets or Exceeds)</th>\n",
       "      <th>Graduation Rate</th>\n",
       "      <th>% College Ready4</th>\n",
       "      <th>% Career Ready5</th>\n",
       "      <th>Total Teachers</th>\n",
       "      <th>Average Teacher Salary</th>\n",
       "      <th>Average Administrator Salary</th>\n",
       "    </tr>\n",
       "  </thead>\n",
       "  <tbody>\n",
       "    <tr>\n",
       "      <th>0</th>\n",
       "      <td>Abbeville</td>\n",
       "      <td>68.98</td>\n",
       "      <td>2801.0</td>\n",
       "      <td>13588.0</td>\n",
       "      <td>10411.09</td>\n",
       "      <td>57.0</td>\n",
       "      <td>47.2</td>\n",
       "      <td>57.0</td>\n",
       "      <td>83.544304</td>\n",
       "      <td>38.4</td>\n",
       "      <td>81.8</td>\n",
       "      <td>224.0</td>\n",
       "      <td>50602.0</td>\n",
       "      <td>76236.0</td>\n",
       "    </tr>\n",
       "    <tr>\n",
       "      <th>1</th>\n",
       "      <td>Aiken</td>\n",
       "      <td>65.47</td>\n",
       "      <td>23359.0</td>\n",
       "      <td>13194.0</td>\n",
       "      <td>9614.68</td>\n",
       "      <td>57.2</td>\n",
       "      <td>51.1</td>\n",
       "      <td>33.3</td>\n",
       "      <td>91.342534</td>\n",
       "      <td>40.0</td>\n",
       "      <td>78.5</td>\n",
       "      <td>1598.0</td>\n",
       "      <td>52134.0</td>\n",
       "      <td>83214.0</td>\n",
       "    </tr>\n",
       "    <tr>\n",
       "      <th>2</th>\n",
       "      <td>Allendale</td>\n",
       "      <td>94.19</td>\n",
       "      <td>1034.0</td>\n",
       "      <td>21624.0</td>\n",
       "      <td>17803.94</td>\n",
       "      <td>45.1</td>\n",
       "      <td>13.3</td>\n",
       "      <td>25.0</td>\n",
       "      <td>76.543210</td>\n",
       "      <td>12.1</td>\n",
       "      <td>48.5</td>\n",
       "      <td>87.0</td>\n",
       "      <td>50177.0</td>\n",
       "      <td>79864.0</td>\n",
       "    </tr>\n",
       "    <tr>\n",
       "      <th>3</th>\n",
       "      <td>Anderson 1</td>\n",
       "      <td>50.69</td>\n",
       "      <td>9853.0</td>\n",
       "      <td>12082.0</td>\n",
       "      <td>8162.09</td>\n",
       "      <td>58.8</td>\n",
       "      <td>64.3</td>\n",
       "      <td>53.5</td>\n",
       "      <td>91.856287</td>\n",
       "      <td>46.3</td>\n",
       "      <td>77.2</td>\n",
       "      <td>588.0</td>\n",
       "      <td>49547.0</td>\n",
       "      <td>97994.0</td>\n",
       "    </tr>\n",
       "    <tr>\n",
       "      <th>4</th>\n",
       "      <td>Anderson 2</td>\n",
       "      <td>64.12</td>\n",
       "      <td>3401.0</td>\n",
       "      <td>13484.0</td>\n",
       "      <td>9339.21</td>\n",
       "      <td>56.2</td>\n",
       "      <td>56.9</td>\n",
       "      <td>35.4</td>\n",
       "      <td>86.805556</td>\n",
       "      <td>37.5</td>\n",
       "      <td>89.3</td>\n",
       "      <td>233.0</td>\n",
       "      <td>47606.0</td>\n",
       "      <td>82894.0</td>\n",
       "    </tr>\n",
       "  </tbody>\n",
       "</table>\n",
       "</div>"
      ],
      "text/plain": [
       "     District  % Poverty  Students1 \\n(135 Day ADM)  Per Pupil Revenue2  \\\n",
       "0   Abbeville      68.98                     2801.0             13588.0   \n",
       "1       Aiken      65.47                    23359.0             13194.0   \n",
       "2   Allendale      94.19                     1034.0             21624.0   \n",
       "3  Anderson 1      50.69                     9853.0             12082.0   \n",
       "4  Anderson 2      64.12                     3401.0             13484.0   \n",
       "\n",
       "   Per Pupil Expenditure3  % Spent on Instruction  \\\n",
       "0                10411.09                    57.0   \n",
       "1                 9614.68                    57.2   \n",
       "2                17803.94                    45.1   \n",
       "3                 8162.09                    58.8   \n",
       "4                 9339.21                    56.2   \n",
       "\n",
       "   3rd Grade ELA (% Meets or Exceeds)  8th Grade Math (% Meets or Exceeds)  \\\n",
       "0                                47.2                                 57.0   \n",
       "1                                51.1                                 33.3   \n",
       "2                                13.3                                 25.0   \n",
       "3                                64.3                                 53.5   \n",
       "4                                56.9                                 35.4   \n",
       "\n",
       "   Graduation Rate  % College Ready4  % Career Ready5  Total Teachers  \\\n",
       "0        83.544304              38.4             81.8           224.0   \n",
       "1        91.342534              40.0             78.5          1598.0   \n",
       "2        76.543210              12.1             48.5            87.0   \n",
       "3        91.856287              46.3             77.2           588.0   \n",
       "4        86.805556              37.5             89.3           233.0   \n",
       "\n",
       "   Average Teacher Salary  Average Administrator Salary  \n",
       "0                 50602.0                       76236.0  \n",
       "1                 52134.0                       83214.0  \n",
       "2                 50177.0                       79864.0  \n",
       "3                 49547.0                       97994.0  \n",
       "4                 47606.0                       82894.0  "
      ]
     },
     "execution_count": 8,
     "metadata": {},
     "output_type": "execute_result"
    }
   ],
   "source": [
    "edu_df.head()"
   ]
  },
  {
   "cell_type": "code",
   "execution_count": 9,
   "metadata": {},
   "outputs": [
    {
     "data": {
      "text/plain": [
       "85"
      ]
     },
     "execution_count": 9,
     "metadata": {},
     "output_type": "execute_result"
    }
   ],
   "source": [
    "len(edu_df)"
   ]
  },
  {
   "cell_type": "code",
   "execution_count": 20,
   "metadata": {},
   "outputs": [
    {
     "name": "stderr",
     "output_type": "stream",
     "text": [
      "C:\\Users\\alvar\\anaconda3\\lib\\site-packages\\seaborn\\distributions.py:2551: FutureWarning: `distplot` is a deprecated function and will be removed in a future version. Please adapt your code to use either `displot` (a figure-level function with similar flexibility) or `histplot` (an axes-level function for histograms).\n",
      "  warnings.warn(msg, FutureWarning)\n"
     ]
    },
    {
     "data": {
      "image/png": "[encoded data removed]",
      "text/plain": [
       "<Figure size 432x288 with 1 Axes>"
      ]
     },
     "metadata": {
      "needs_background": "light"
     },
     "output_type": "display_data"
    }
   ],
   "source": [
    "sns.distplot(edu_df['% Poverty'])\n",
    "plt.title('Histogram of Students in Poverty in SC School Districts');"
   ]
  },
  {
   "cell_type": "code",
   "execution_count": 21,
   "metadata": {},
   "outputs": [
    {
     "name": "stderr",
     "output_type": "stream",
     "text": [
      "C:\\Users\\alvar\\anaconda3\\lib\\site-packages\\seaborn\\distributions.py:2551: FutureWarning: `distplot` is a deprecated function and will be removed in a future version. Please adapt your code to use either `displot` (a figure-level function with similar flexibility) or `histplot` (an axes-level function for histograms).\n",
      "  warnings.warn(msg, FutureWarning)\n"
     ]
    },
    {
     "data": {
      "image/png": "[encoded data removed]",
      "text/plain": [
       "<Figure size 432x288 with 1 Axes>"
      ]
     },
     "metadata": {
      "needs_background": "light"
     },
     "output_type": "display_data"
    }
   ],
   "source": [
    "sns.distplot(edu_df['Per Pupil Expenditure3'])\n",
    "plt.title('Per Pupil Spending in SC School Districts');"
   ]
  },
  {
   "cell_type": "markdown",
   "metadata": {},
   "source": [
    "Next steps:\n",
    "- clean up the data\n",
    "- look at more visualizations (ex: 8th grade meets/exceeds vs 3rd grade)"
   ]
  }
 ],
 "metadata": {
  "kernelspec": {
   "display_name": "Python 3",
   "language": "python",
   "name": "python3"
  },
  "language_info": {
   "codemirror_mode": {
    "name": "ipython",
    "version": 3
   },
   "file_extension": ".py",
   "mimetype": "text/x-python",
   "name": "python",
   "nbconvert_exporter": "python",
   "pygments_lexer": "ipython3",
   "version": "3.8.5"
  }
 },
 "nbformat": 4,
 "nbformat_minor": 4
}
